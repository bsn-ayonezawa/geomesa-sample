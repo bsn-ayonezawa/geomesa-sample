{
 "cells": [
  {
   "cell_type": "markdown",
   "metadata": {},
   "source": [
    "### Initialization"
   ]
  },
  {
   "cell_type": "code",
   "execution_count": 1,
   "metadata": {},
   "outputs": [],
   "source": [
    "from pyspark import SparkContext\n",
    "\n",
    "sc = SparkContext('local[*]')\n",
    "\n",
    "\n",
    "import geomesa_pyspark\n",
    "\n",
    "conf = geomesa_pyspark.configure(\n",
    "        jars=['/jars/geomesa-fs-spark-runtime_2.11-2.4.0.jar'],\n",
    "        packages=['geomesa_pyspark','pytz'],\n",
    "        spark_home='/usr/local/spark/'\n",
    "       ) \\\n",
    "       .setAppName('MyTestApp')\n",
    "\n",
    "\n",
    "from pyspark.sql import SparkSession\n",
    "\n",
    "spark = SparkSession \\\n",
    "        .builder \\\n",
    "        .config(conf=conf) \\\n",
    "        .enableHiveSupport() \\\n",
    "        .getOrCreate()\n",
    "\n",
    "geomesa_pyspark.init_sql(spark)"
   ]
  },
  {
   "cell_type": "markdown",
   "metadata": {},
   "source": [
    "### Spatial Join (Point to Polygon)"
   ]
  },
  {
   "cell_type": "markdown",
   "metadata": {},
   "source": [
    "#### ST_Contains"
   ]
  },
  {
   "cell_type": "code",
   "execution_count": 2,
   "metadata": {
    "scrolled": true
   },
   "outputs": [
    {
     "name": "stdout",
     "output_type": "stream",
     "text": [
      "+-------------+--------------------+-----+\n",
      "|           pt|                geom| name|\n",
      "+-------------+--------------------+-----+\n",
      "|  POINT (5 5)|POLYGON ((0 0, 10...| poly|\n",
      "|POINT (10 10)|                null| null|\n",
      "|POINT (20 20)|POLYGON ((10 10, ...|poly2|\n",
      "+-------------+--------------------+-----+\n",
      "\n"
     ]
    }
   ],
   "source": [
    "from pyspark.sql import Row\n",
    "\n",
    "from geomesa_pyspark.types import Point, Polygon\n",
    "\n",
    "points = spark.createDataFrame([\n",
    "    Row(pt=Point(5, 5)),\n",
    "    Row(pt=Point(10, 10)),\n",
    "    Row(pt=Point(20, 20)),\n",
    "])\n",
    "points.createOrReplaceTempView('pt')\n",
    "\n",
    "polygon = spark.createDataFrame([\n",
    "    Row(name='poly',\n",
    "        geom=Polygon([\n",
    "                Point(0, 0),\n",
    "                Point(10, 0),\n",
    "                Point(10, 10),\n",
    "                Point(0, 10),\n",
    "                Point(0, 0)\n",
    "             ])\n",
    "    ),\n",
    "    Row(name='poly2',\n",
    "        geom=Polygon([\n",
    "                Point(10, 10),\n",
    "                Point(100, 0),\n",
    "                Point(100, 100),\n",
    "                Point(10, 100),\n",
    "                Point(10, 10)\n",
    "             ])\n",
    "    ),\n",
    "])\n",
    "polygon.createOrReplaceTempView('poly')\n",
    "\n",
    "joined = spark.sql('''\n",
    "    select * from pt\n",
    "    left outer join poly\n",
    "    on st_contains(poly.geom, pt.pt)\n",
    "''')\n",
    "joined.show()"
   ]
  },
  {
   "cell_type": "markdown",
   "metadata": {},
   "source": [
    "ポリゴンの境界線上にあるポイントは結合されていない。\n",
    "![](images/spatial_join.png)"
   ]
  },
  {
   "cell_type": "markdown",
   "metadata": {},
   "source": [
    "### 距離計算 (Point to Point)"
   ]
  },
  {
   "cell_type": "markdown",
   "metadata": {},
   "source": [
    "#### ST_DistanceSphere, ST_DistanceSpheroid"
   ]
  },
  {
   "cell_type": "code",
   "execution_count": 3,
   "metadata": {},
   "outputs": [
    {
     "name": "stdout",
     "output_type": "stream",
     "text": [
      "+-----------------+------------------+-----------------+\n",
      "|           sphere|          spheroid|           euclid|\n",
      "+-----------------+------------------+-----------------+\n",
      "|395132.9370551306|395874.34253470233|4.290564052825666|\n",
      "+-----------------+------------------+-----------------+\n",
      "\n"
     ]
    }
   ],
   "source": [
    "from pyspark.sql import Row\n",
    "\n",
    "from geomesa_pyspark.types import Point, Polygon, LineString\n",
    "\n",
    "poi2poi_dist = spark.createDataFrame([\n",
    "    Row(tokyo=Point(139.69167, 35.68944),\n",
    "        osaka=Point(135.52, 34.68639)\n",
    "    )\n",
    "])\n",
    "poi2poi_dist.createOrReplaceTempView('poi2poi')\n",
    "\n",
    "'''\n",
    "東京都と大阪府間の距離を算出\n",
    "sphere : 球形の地球を想定した2つの緯度経度間の最小距離\n",
    "sheroid: wGS84回転楕円体を想定した2つの緯度経度間の最小距離\n",
    "euclid : 2つの座標間の平面距離\n",
    "'''\n",
    "spark.sql('''\n",
    "    select\n",
    "      st_distanceSphere(tokyo, osaka) as sphere,\n",
    "      st_distanceSpheroid(tokyo, osaka) as spheroid,\n",
    "      st_distance(tokyo, osaka) as euclid\n",
    "    from poi2poi\n",
    "''').show()"
   ]
  },
  {
   "cell_type": "markdown",
   "metadata": {},
   "source": [
    "![](images/tokyo2osaka.png)"
   ]
  },
  {
   "cell_type": "markdown",
   "metadata": {},
   "source": [
    "### 距離計算 (Point to Line, Point to Polygon)\n",
    "#### ※ST_DistanceSphereやST_DistanceSpheroidの引数に、ラインやポリゴンを使用した場合、ユークリッド距離以外は最初の１点との距離が算出される模様。"
   ]
  },
  {
   "cell_type": "code",
   "execution_count": 4,
   "metadata": {},
   "outputs": [
    {
     "name": "stdout",
     "output_type": "stream",
     "text": [
      "+-----------------+------------------+--------------+-----------------+------------------+--------------+\n",
      "|   sphere_to_geom|  spheroid_to_geom|euclid_to_geom|   sphere_to_line|  spheroid_to_line|euclid_to_line|\n",
      "+-----------------+------------------+--------------+-----------------+------------------+--------------+\n",
      "|395132.9370551306|395874.34253470233|           0.0|395132.9370551306|395874.34253470233|           0.0|\n",
      "+-----------------+------------------+--------------+-----------------+------------------+--------------+\n",
      "\n"
     ]
    }
   ],
   "source": [
    "from pyspark.sql import Row\n",
    "\n",
    "from geomesa_pyspark.types import Point, Polygon, LineString\n",
    "\n",
    "dist = spark.createDataFrame([\n",
    "    Row(tokyo=Point(139.69167, 35.68944),\n",
    "        osaka=Point(135.52, 34.68639),\n",
    "        geom=Polygon([\n",
    "              Point(139.69167, 35.68944),\n",
    "              Point(135.52, 34.68639),\n",
    "              Point(139.69167, 34.68639),\n",
    "              Point(139.69167, 35.68944)\n",
    "        ]),\n",
    "        line=LineString([\n",
    "              Point(139.69167, 35.68944),\n",
    "              Point(135.52, 34.68639)\n",
    "        ])\n",
    "    )\n",
    "])\n",
    "dist.createOrReplaceTempView('dist')\n",
    "\n",
    "'''\n",
    "大阪府からポリゴン、大阪府からラインまでの距離を算出\n",
    "sphere : 球形の地球を想定した2つの緯度経度間の最小距離\n",
    "sheroid: wGS84回転楕円体を想定した2つの緯度経度間の最小距離\n",
    "euclid : 2つの座標間の平面距離\n",
    "'''\n",
    "spark.sql('''\n",
    "    select\n",
    "      st_distanceSphere(osaka, geom) as sphere_to_geom,\n",
    "      st_distanceSpheroid(osaka, geom) as spheroid_to_geom,\n",
    "      st_distance(osaka, geom) as euclid_to_geom,\n",
    "      st_distanceSphere(osaka, line) as sphere_to_line,\n",
    "      st_distanceSpheroid(osaka, line) as spheroid_to_line,\n",
    "      st_distance(osaka, line) as euclid_to_line\n",
    "    from dist\n",
    "''').show()"
   ]
  },
  {
   "cell_type": "markdown",
   "metadata": {},
   "source": [
    "#### euclid以外は東京都と大阪府の距離と同じ結果になっている。"
   ]
  },
  {
   "cell_type": "markdown",
   "metadata": {},
   "source": [
    "![](images/osaka2polygon,line.png)"
   ]
  },
  {
   "cell_type": "markdown",
   "metadata": {},
   "source": [
    "### 形式変換 (Point to Line)\n",
    "#### LineString"
   ]
  },
  {
   "cell_type": "code",
   "execution_count": 5,
   "metadata": {},
   "outputs": [
    {
     "data": {
      "image/svg+xml": [
       "<svg xmlns=\"http://www.w3.org/2000/svg\" xmlns:xlink=\"http://www.w3.org/1999/xlink\" width=\"100.0\" height=\"100.0\" viewBox=\"134.6979332 34.494323200000004 5.185803599999986 1.387183599999993\" preserveAspectRatio=\"xMinYMin meet\"><g transform=\"matrix(1,0,0,-1,0,70.37583000000001)\"><polyline fill=\"none\" stroke=\"#66cc99\" stroke-width=\"0.10371607199999971\" points=\"139.69167,35.68944 135.52,34.68639 134.89,35.255\" opacity=\"0.8\" /></g></svg>"
      ],
      "text/plain": [
       "<shapely.geometry.linestring.LineString at 0x7fa3e6569c50>"
      ]
     },
     "execution_count": 5,
     "metadata": {},
     "output_type": "execute_result"
    }
   ],
   "source": [
    "from geomesa_pyspark.types import Point, LineString\n",
    "\n",
    "LineString([\n",
    "    Point(139.69167, 35.68944),\n",
    "    Point(135.52, 34.68639),\n",
    "    Point(134.89, 35.255)\n",
    "])"
   ]
  }
 ],
 "metadata": {
  "kernelspec": {
   "display_name": "Python 3",
   "language": "python",
   "name": "python3"
  },
  "language_info": {
   "codemirror_mode": {
    "name": "ipython",
    "version": 3
   },
   "file_extension": ".py",
   "mimetype": "text/x-python",
   "name": "python",
   "nbconvert_exporter": "python",
   "pygments_lexer": "ipython3",
   "version": "3.7.6"
  }
 },
 "nbformat": 4,
 "nbformat_minor": 4
}
